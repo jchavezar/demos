{
 "cells": [
  {
   "cell_type": "markdown",
   "id": "c4b1df98-b5eb-4f3d-97ee-621c822cd3ec",
   "metadata": {},
   "source": [
    "### Constants"
   ]
  },
  {
   "cell_type": "code",
   "execution_count": null,
   "id": "7ee86b2e-87d1-49a7-bb93-de6cb4ff6787",
   "metadata": {},
   "outputs": [],
   "source": [
    "import random\n",
    "import string\n",
    "\n",
    "PROJECT_ID = \"jchavezar-demo\"\n",
    "REGION = \"us-central1\"  # @param {type: \"string\"}\n",
    "UUID = \"\".join(random.choices(string.ascii_lowercase + string.digits, k=8))\n",
    "BUCKET_NAME = \"vtx-demos\"  # @param {type:\"string\"}\n",
    "BUCKET_URI = f\"gs://{BUCKET_NAME}\"\n",
    "DATA_PATH = \"data\"\n",
    "# Base\n",
    "DATASET_NAME = \"news_corpora\"\n",
    "DATASET_URI = f\"{BUCKET_URI}/{DATA_PATH}/raw/newsCorpora.csv\"\n",
    "\n",
    "# Experiments\n",
    "TASK = \"classification\"\n",
    "MODEL_TYPE = \"naivebayes\"\n",
    "EXPERIMENT_NAME = f\"{TASK}-{MODEL_TYPE}-{UUID}\"\n",
    "EXPERIMENT_RUN_NAME = \"run-1\"\n",
    "\n",
    "# Preprocessing\n",
    "PREPROCESSED_DATASET_NAME = f\"preprocessed_{DATASET_NAME}\"\n",
    "PREPROCESS_EXECUTION_NAME = \"preprocess\"\n",
    "COLUMN_NAMES = [\n",
    "    \"id\",\n",
    "    \"title\",\n",
    "    \"url\",\n",
    "    \"publisher\",\n",
    "    \"category\",\n",
    "    \"story\",\n",
    "    \"hostname\",\n",
    "    \"timestamp\",\n",
    "]\n",
    "DELIMITER = \"\t\"\n",
    "INDEX_COL = 0\n",
    "PREPROCESSED_DATASET_URI = (\n",
    "    f\"{BUCKET_URI}/{DATA_PATH}/preprocess/{PREPROCESSED_DATASET_NAME}.csv\"\n",
    ")\n",
    "\n",
    "# Training\n",
    "TRAIN_EXECUTION_NAME = \"train\"\n",
    "TARGET = \"category\"\n",
    "FEATURES = \"title\"\n",
    "TEST_SIZE = 0.2\n",
    "SEED = 8\n",
    "TRAINED_MODEL_URI = f\"{BUCKET_URI}/deliverables/{UUID}\"\n",
    "MODEL_NAME = f\"{EXPERIMENT_NAME}-model\"\n",
    "SERVE_IMAGE = \"us-docker.pkg.dev/vertex-ai/prediction/sklearn-cpu.1-0:latest\""
   ]
  },
  {
   "cell_type": "markdown",
   "id": "e5a3c86d-b124-4226-9f51-a3383126bfca",
   "metadata": {},
   "source": [
    "### Get Data "
   ]
  },
  {
   "cell_type": "code",
   "execution_count": null,
   "id": "e3f85dd9-3f45-4330-ac75-047e3d0cd3b9",
   "metadata": {},
   "outputs": [
    {
     "name": "stdout",
     "output_type": "stream",
     "text": [
      "--2022-09-27 15:35:40--  https://archive.ics.uci.edu/ml/machine-learning-databases/00359/NewsAggregatorDataset.zip\n",
      "Resolving archive.ics.uci.edu (archive.ics.uci.edu)... 128.195.10.252\n",
      "Connecting to archive.ics.uci.edu (archive.ics.uci.edu)|128.195.10.252|:443... connected.\n",
      "HTTP request sent, awaiting response... 200 OK\n",
      "Length: 29224203 (28M) [application/x-httpd-php]\n",
      "Saving to: ‘data/NewsAggregatorDataset.zip’\n",
      "\n",
      "NewsAggregatorDatas 100%[===================>]  27.87M  34.2MB/s    in 0.8s    \n",
      "\n",
      "2022-09-27 15:35:41 (34.2 MB/s) - ‘data/NewsAggregatorDataset.zip’ saved [29224203/29224203]\n",
      "\n",
      "Archive:  data/NewsAggregatorDataset.zip\n",
      "  inflating: data/temp/2pageSessions.csv  \n",
      "   creating: data/temp/__MACOSX/\n",
      "  inflating: data/temp/__MACOSX/._2pageSessions.csv  \n",
      "  inflating: data/temp/newsCorpora.csv  \n",
      "  inflating: data/temp/__MACOSX/._newsCorpora.csv  \n",
      "  inflating: data/temp/readme.txt    \n",
      "  inflating: data/temp/__MACOSX/._readme.txt  \n",
      "Copying file://data/raw/newsCorpora.csv [Content-Type=text/csv]...\n",
      "Copying file://data/raw/2pageSessions.csv [Content-Type=text/csv]...            \n",
      "\\ [2/2 files][100.5 MiB/100.5 MiB] 100% Done                                    \n",
      "Operation completed over 2 objects/100.5 MiB.                                    \n"
     ]
    }
   ],
   "source": [
    "!mkdir -m 777 -p {DATA_PATH}\n",
    "\n",
    "DATASET_URL = \"https://archive.ics.uci.edu/ml/machine-learning-databases/00359/NewsAggregatorDataset.zip\"\n",
    "!wget --no-parent {DATASET_URL} --directory-prefix={DATA_PATH}\n",
    "!mkdir -m 777 -p {DATA_PATH}/temp {DATA_PATH}/raw\n",
    "!unzip {DATA_PATH}/*.zip -d {DATA_PATH}/temp\n",
    "!mv {DATA_PATH}/temp/*.csv {DATA_PATH}/raw && rm -Rf {DATA_PATH}/temp && rm -f {DATA_PATH}/*.zip\n",
    "!gsutil -m cp -R {DATA_PATH}/raw $BUCKET_URI/{DATA_PATH}/raw"
   ]
  },
  {
   "cell_type": "markdown",
   "id": "b14fa1f7-03ae-48ec-84ea-d06a627bd3a2",
   "metadata": {},
   "source": [
    "### Import Libraries"
   ]
  },
  {
   "cell_type": "code",
   "execution_count": null,
   "id": "52c6f56d-b912-41e1-bba9-3a54f9d75c22",
   "metadata": {},
   "outputs": [],
   "source": [
    "# General\n",
    "import logging\n",
    "import collections\n",
    "import tempfile\n",
    "import time\n",
    "from json import dumps\n",
    "\n",
    "collections.Iterable = collections.abc.Iterable\n",
    "\n",
    "# Vertex AI\n",
    "from google.cloud import aiplatform as vertex_ai"
   ]
  },
  {
   "cell_type": "markdown",
   "id": "c73aa18b-e30c-422a-a47e-bd86fa85fabf",
   "metadata": {},
   "source": [
    "### Initialize Vertex AI\n"
   ]
  },
  {
   "cell_type": "code",
   "execution_count": null,
   "id": "f4d1509c-15f2-4033-8dd0-e66a33b6036d",
   "metadata": {},
   "outputs": [],
   "source": [
    "vertex_ai.init(\n",
    "    project=PROJECT_ID, experiment=EXPERIMENT_NAME, staging_bucket=BUCKET_URI\n",
    ")"
   ]
  },
  {
   "cell_type": "markdown",
   "id": "b726fd85-7e93-45fa-8c05-bd65ac495ac1",
   "metadata": {},
   "source": [
    "### Initialize Experiment Run"
   ]
  },
  {
   "cell_type": "code",
   "execution_count": null,
   "id": "5616ad3c-81b8-4db6-a5d9-a0e6ca720c30",
   "metadata": {},
   "outputs": [
    {
     "name": "stdout",
     "output_type": "stream",
     "text": [
      "Associating projects/569083142710/locations/us-central1/metadataStores/default/contexts/classification-naivebayes-kkafjjcq-run-1 to Experiment: classification-naivebayes-kkafjjcq\n"
     ]
    }
   ],
   "source": [
    "run = vertex_ai.start_run(EXPERIMENT_RUN_NAME)"
   ]
  },
  {
   "cell_type": "code",
   "execution_count": null,
   "id": "facf21b2-6920-4590-8347-3977ae0125be",
   "metadata": {},
   "outputs": [],
   "source": []
  }
 ],
 "metadata": {
  "kernelspec": {
   "display_name": "TensorFlow 2 (Local)",
   "language": "python",
   "name": "local-tf2"
  },
  "language_info": {
   "codemirror_mode": {
    "name": "ipython",
    "version": 3
   },
   "file_extension": ".py",
   "mimetype": "text/x-python",
   "name": "python",
   "nbconvert_exporter": "python",
   "pygments_lexer": "ipython3",
   "version": "3.7.12"
  }
 },
 "nbformat": 4,
 "nbformat_minor": 5
}
